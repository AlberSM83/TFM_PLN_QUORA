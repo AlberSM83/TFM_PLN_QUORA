{
  "nbformat": 4,
  "nbformat_minor": 0,
  "metadata": {
    "colab": {
      "provenance": [],
      "machine_shape": "hm"
    },
    "kernelspec": {
      "name": "python3",
      "display_name": "Python 3"
    },
    "language_info": {
      "name": "python"
    },
    "accelerator": "TPU",
    "gpuClass": "standard"
  },
  "cells": [
    {
      "cell_type": "markdown",
      "source": [
        "# Notebook para probar diferentes modelos de clasificación con TfIdVectorizer"
      ],
      "metadata": {
        "id": "N4AA2v5Wi0a_"
      }
    },
    {
      "cell_type": "code",
      "source": [
        "gpu_info = !nvidia-smi\n",
        "gpu_info = '\\n'.join(gpu_info)\n",
        "if gpu_info.find('failed') >= 0:\n",
        "  print('Not connected to a GPU')\n",
        "else:\n",
        "  print(gpu_info)\n",
        "\n",
        "from psutil import virtual_memory\n",
        "ram_gb = virtual_memory().total / 1e9\n",
        "print('Your runtime has {:.1f} gigabytes of available RAM\\n'.format(ram_gb))\n",
        "\n",
        "if ram_gb < 20:\n",
        "  print('Not using a high-RAM runtime')\n",
        "else:\n",
        "  print('You are using a high-RAM runtime!')"
      ],
      "metadata": {
        "colab": {
          "base_uri": "https://localhost:8080/"
        },
        "id": "fBqGr8j3D9X4",
        "outputId": "0df19787-58e7-4ed2-b169-24c7866fc04f"
      },
      "execution_count": 1,
      "outputs": [
        {
          "output_type": "stream",
          "name": "stdout",
          "text": [
            "Not connected to a GPU\n",
            "Your runtime has 37.8 gigabytes of available RAM\n",
            "\n",
            "You are using a high-RAM runtime!\n"
          ]
        }
      ]
    },
    {
      "cell_type": "markdown",
      "source": [
        "Carga del dataset y separación en sinceras e insinceras"
      ],
      "metadata": {
        "id": "SnYn9BsQmgha"
      }
    },
    {
      "cell_type": "code",
      "execution_count": 2,
      "metadata": {
        "colab": {
          "base_uri": "https://localhost:8080/"
        },
        "id": "CURvglHkCMPf",
        "outputId": "84fe0f42-4f9b-426f-cc8a-b5ae2e388908"
      },
      "outputs": [
        {
          "output_type": "stream",
          "name": "stderr",
          "text": [
            "[nltk_data] Downloading collection 'all'\n",
            "[nltk_data]    | \n",
            "[nltk_data]    | Downloading package abc to /root/nltk_data...\n",
            "[nltk_data]    |   Package abc is already up-to-date!\n",
            "[nltk_data]    | Downloading package alpino to /root/nltk_data...\n",
            "[nltk_data]    |   Package alpino is already up-to-date!\n",
            "[nltk_data]    | Downloading package averaged_perceptron_tagger to\n",
            "[nltk_data]    |     /root/nltk_data...\n",
            "[nltk_data]    |   Package averaged_perceptron_tagger is already up-\n",
            "[nltk_data]    |       to-date!\n",
            "[nltk_data]    | Downloading package averaged_perceptron_tagger_ru to\n",
            "[nltk_data]    |     /root/nltk_data...\n",
            "[nltk_data]    |   Package averaged_perceptron_tagger_ru is already\n",
            "[nltk_data]    |       up-to-date!\n",
            "[nltk_data]    | Downloading package basque_grammars to\n",
            "[nltk_data]    |     /root/nltk_data...\n",
            "[nltk_data]    |   Package basque_grammars is already up-to-date!\n",
            "[nltk_data]    | Downloading package bcp47 to /root/nltk_data...\n",
            "[nltk_data]    |   Package bcp47 is already up-to-date!\n",
            "[nltk_data]    | Downloading package biocreative_ppi to\n",
            "[nltk_data]    |     /root/nltk_data...\n",
            "[nltk_data]    |   Package biocreative_ppi is already up-to-date!\n",
            "[nltk_data]    | Downloading package bllip_wsj_no_aux to\n",
            "[nltk_data]    |     /root/nltk_data...\n",
            "[nltk_data]    |   Package bllip_wsj_no_aux is already up-to-date!\n",
            "[nltk_data]    | Downloading package book_grammars to\n",
            "[nltk_data]    |     /root/nltk_data...\n",
            "[nltk_data]    |   Package book_grammars is already up-to-date!\n",
            "[nltk_data]    | Downloading package brown to /root/nltk_data...\n",
            "[nltk_data]    |   Package brown is already up-to-date!\n",
            "[nltk_data]    | Downloading package brown_tei to /root/nltk_data...\n",
            "[nltk_data]    |   Package brown_tei is already up-to-date!\n",
            "[nltk_data]    | Downloading package cess_cat to /root/nltk_data...\n",
            "[nltk_data]    |   Package cess_cat is already up-to-date!\n",
            "[nltk_data]    | Downloading package cess_esp to /root/nltk_data...\n",
            "[nltk_data]    |   Package cess_esp is already up-to-date!\n",
            "[nltk_data]    | Downloading package chat80 to /root/nltk_data...\n",
            "[nltk_data]    |   Package chat80 is already up-to-date!\n",
            "[nltk_data]    | Downloading package city_database to\n",
            "[nltk_data]    |     /root/nltk_data...\n",
            "[nltk_data]    |   Package city_database is already up-to-date!\n",
            "[nltk_data]    | Downloading package cmudict to /root/nltk_data...\n",
            "[nltk_data]    |   Package cmudict is already up-to-date!\n",
            "[nltk_data]    | Downloading package comparative_sentences to\n",
            "[nltk_data]    |     /root/nltk_data...\n",
            "[nltk_data]    |   Package comparative_sentences is already up-to-\n",
            "[nltk_data]    |       date!\n",
            "[nltk_data]    | Downloading package comtrans to /root/nltk_data...\n",
            "[nltk_data]    |   Package comtrans is already up-to-date!\n",
            "[nltk_data]    | Downloading package conll2000 to /root/nltk_data...\n",
            "[nltk_data]    |   Package conll2000 is already up-to-date!\n",
            "[nltk_data]    | Downloading package conll2002 to /root/nltk_data...\n",
            "[nltk_data]    |   Package conll2002 is already up-to-date!\n",
            "[nltk_data]    | Downloading package conll2007 to /root/nltk_data...\n",
            "[nltk_data]    |   Package conll2007 is already up-to-date!\n",
            "[nltk_data]    | Downloading package crubadan to /root/nltk_data...\n",
            "[nltk_data]    |   Package crubadan is already up-to-date!\n",
            "[nltk_data]    | Downloading package dependency_treebank to\n",
            "[nltk_data]    |     /root/nltk_data...\n",
            "[nltk_data]    |   Package dependency_treebank is already up-to-date!\n",
            "[nltk_data]    | Downloading package dolch to /root/nltk_data...\n",
            "[nltk_data]    |   Package dolch is already up-to-date!\n",
            "[nltk_data]    | Downloading package europarl_raw to\n",
            "[nltk_data]    |     /root/nltk_data...\n",
            "[nltk_data]    |   Package europarl_raw is already up-to-date!\n",
            "[nltk_data]    | Downloading package extended_omw to\n",
            "[nltk_data]    |     /root/nltk_data...\n",
            "[nltk_data]    |   Package extended_omw is already up-to-date!\n",
            "[nltk_data]    | Downloading package floresta to /root/nltk_data...\n",
            "[nltk_data]    |   Package floresta is already up-to-date!\n",
            "[nltk_data]    | Downloading package framenet_v15 to\n",
            "[nltk_data]    |     /root/nltk_data...\n",
            "[nltk_data]    |   Package framenet_v15 is already up-to-date!\n",
            "[nltk_data]    | Downloading package framenet_v17 to\n",
            "[nltk_data]    |     /root/nltk_data...\n",
            "[nltk_data]    |   Package framenet_v17 is already up-to-date!\n",
            "[nltk_data]    | Downloading package gazetteers to /root/nltk_data...\n",
            "[nltk_data]    |   Package gazetteers is already up-to-date!\n",
            "[nltk_data]    | Downloading package genesis to /root/nltk_data...\n",
            "[nltk_data]    |   Package genesis is already up-to-date!\n",
            "[nltk_data]    | Downloading package gutenberg to /root/nltk_data...\n",
            "[nltk_data]    |   Package gutenberg is already up-to-date!\n",
            "[nltk_data]    | Downloading package ieer to /root/nltk_data...\n",
            "[nltk_data]    |   Package ieer is already up-to-date!\n",
            "[nltk_data]    | Downloading package inaugural to /root/nltk_data...\n",
            "[nltk_data]    |   Package inaugural is already up-to-date!\n",
            "[nltk_data]    | Downloading package indian to /root/nltk_data...\n",
            "[nltk_data]    |   Package indian is already up-to-date!\n",
            "[nltk_data]    | Downloading package jeita to /root/nltk_data...\n",
            "[nltk_data]    |   Package jeita is already up-to-date!\n",
            "[nltk_data]    | Downloading package kimmo to /root/nltk_data...\n",
            "[nltk_data]    |   Package kimmo is already up-to-date!\n",
            "[nltk_data]    | Downloading package knbc to /root/nltk_data...\n",
            "[nltk_data]    |   Package knbc is already up-to-date!\n",
            "[nltk_data]    | Downloading package large_grammars to\n",
            "[nltk_data]    |     /root/nltk_data...\n",
            "[nltk_data]    |   Package large_grammars is already up-to-date!\n",
            "[nltk_data]    | Downloading package lin_thesaurus to\n",
            "[nltk_data]    |     /root/nltk_data...\n",
            "[nltk_data]    |   Package lin_thesaurus is already up-to-date!\n",
            "[nltk_data]    | Downloading package mac_morpho to /root/nltk_data...\n",
            "[nltk_data]    |   Package mac_morpho is already up-to-date!\n",
            "[nltk_data]    | Downloading package machado to /root/nltk_data...\n",
            "[nltk_data]    |   Package machado is already up-to-date!\n",
            "[nltk_data]    | Downloading package masc_tagged to /root/nltk_data...\n",
            "[nltk_data]    |   Package masc_tagged is already up-to-date!\n",
            "[nltk_data]    | Downloading package maxent_ne_chunker to\n",
            "[nltk_data]    |     /root/nltk_data...\n",
            "[nltk_data]    |   Package maxent_ne_chunker is already up-to-date!\n",
            "[nltk_data]    | Downloading package maxent_treebank_pos_tagger to\n",
            "[nltk_data]    |     /root/nltk_data...\n",
            "[nltk_data]    |   Package maxent_treebank_pos_tagger is already up-\n",
            "[nltk_data]    |       to-date!\n",
            "[nltk_data]    | Downloading package moses_sample to\n",
            "[nltk_data]    |     /root/nltk_data...\n",
            "[nltk_data]    |   Package moses_sample is already up-to-date!\n",
            "[nltk_data]    | Downloading package movie_reviews to\n",
            "[nltk_data]    |     /root/nltk_data...\n",
            "[nltk_data]    |   Package movie_reviews is already up-to-date!\n",
            "[nltk_data]    | Downloading package mte_teip5 to /root/nltk_data...\n",
            "[nltk_data]    |   Package mte_teip5 is already up-to-date!\n",
            "[nltk_data]    | Downloading package mwa_ppdb to /root/nltk_data...\n",
            "[nltk_data]    |   Package mwa_ppdb is already up-to-date!\n",
            "[nltk_data]    | Downloading package names to /root/nltk_data...\n",
            "[nltk_data]    |   Package names is already up-to-date!\n",
            "[nltk_data]    | Downloading package nombank.1.0 to /root/nltk_data...\n",
            "[nltk_data]    |   Package nombank.1.0 is already up-to-date!\n",
            "[nltk_data]    | Downloading package nonbreaking_prefixes to\n",
            "[nltk_data]    |     /root/nltk_data...\n",
            "[nltk_data]    |   Package nonbreaking_prefixes is already up-to-date!\n",
            "[nltk_data]    | Downloading package nps_chat to /root/nltk_data...\n",
            "[nltk_data]    |   Package nps_chat is already up-to-date!\n",
            "[nltk_data]    | Downloading package omw to /root/nltk_data...\n",
            "[nltk_data]    |   Package omw is already up-to-date!\n",
            "[nltk_data]    | Downloading package omw-1.4 to /root/nltk_data...\n",
            "[nltk_data]    |   Package omw-1.4 is already up-to-date!\n",
            "[nltk_data]    | Downloading package opinion_lexicon to\n",
            "[nltk_data]    |     /root/nltk_data...\n",
            "[nltk_data]    |   Package opinion_lexicon is already up-to-date!\n",
            "[nltk_data]    | Downloading package panlex_swadesh to\n",
            "[nltk_data]    |     /root/nltk_data...\n",
            "[nltk_data]    |   Package panlex_swadesh is already up-to-date!\n",
            "[nltk_data]    | Downloading package paradigms to /root/nltk_data...\n",
            "[nltk_data]    |   Package paradigms is already up-to-date!\n",
            "[nltk_data]    | Downloading package pe08 to /root/nltk_data...\n",
            "[nltk_data]    |   Package pe08 is already up-to-date!\n",
            "[nltk_data]    | Downloading package perluniprops to\n",
            "[nltk_data]    |     /root/nltk_data...\n",
            "[nltk_data]    |   Package perluniprops is already up-to-date!\n",
            "[nltk_data]    | Downloading package pil to /root/nltk_data...\n",
            "[nltk_data]    |   Package pil is already up-to-date!\n",
            "[nltk_data]    | Downloading package pl196x to /root/nltk_data...\n",
            "[nltk_data]    |   Package pl196x is already up-to-date!\n",
            "[nltk_data]    | Downloading package porter_test to /root/nltk_data...\n",
            "[nltk_data]    |   Package porter_test is already up-to-date!\n",
            "[nltk_data]    | Downloading package ppattach to /root/nltk_data...\n",
            "[nltk_data]    |   Package ppattach is already up-to-date!\n",
            "[nltk_data]    | Downloading package problem_reports to\n",
            "[nltk_data]    |     /root/nltk_data...\n",
            "[nltk_data]    |   Package problem_reports is already up-to-date!\n",
            "[nltk_data]    | Downloading package product_reviews_1 to\n",
            "[nltk_data]    |     /root/nltk_data...\n",
            "[nltk_data]    |   Package product_reviews_1 is already up-to-date!\n",
            "[nltk_data]    | Downloading package product_reviews_2 to\n",
            "[nltk_data]    |     /root/nltk_data...\n",
            "[nltk_data]    |   Package product_reviews_2 is already up-to-date!\n",
            "[nltk_data]    | Downloading package propbank to /root/nltk_data...\n",
            "[nltk_data]    |   Package propbank is already up-to-date!\n",
            "[nltk_data]    | Downloading package pros_cons to /root/nltk_data...\n",
            "[nltk_data]    |   Package pros_cons is already up-to-date!\n",
            "[nltk_data]    | Downloading package ptb to /root/nltk_data...\n",
            "[nltk_data]    |   Package ptb is already up-to-date!\n",
            "[nltk_data]    | Downloading package punkt to /root/nltk_data...\n",
            "[nltk_data]    |   Package punkt is already up-to-date!\n",
            "[nltk_data]    | Downloading package qc to /root/nltk_data...\n",
            "[nltk_data]    |   Package qc is already up-to-date!\n",
            "[nltk_data]    | Downloading package reuters to /root/nltk_data...\n",
            "[nltk_data]    |   Package reuters is already up-to-date!\n",
            "[nltk_data]    | Downloading package rslp to /root/nltk_data...\n",
            "[nltk_data]    |   Package rslp is already up-to-date!\n",
            "[nltk_data]    | Downloading package rte to /root/nltk_data...\n",
            "[nltk_data]    |   Package rte is already up-to-date!\n",
            "[nltk_data]    | Downloading package sample_grammars to\n",
            "[nltk_data]    |     /root/nltk_data...\n",
            "[nltk_data]    |   Package sample_grammars is already up-to-date!\n",
            "[nltk_data]    | Downloading package semcor to /root/nltk_data...\n",
            "[nltk_data]    |   Package semcor is already up-to-date!\n",
            "[nltk_data]    | Downloading package senseval to /root/nltk_data...\n",
            "[nltk_data]    |   Package senseval is already up-to-date!\n",
            "[nltk_data]    | Downloading package sentence_polarity to\n",
            "[nltk_data]    |     /root/nltk_data...\n",
            "[nltk_data]    |   Package sentence_polarity is already up-to-date!\n",
            "[nltk_data]    | Downloading package sentiwordnet to\n",
            "[nltk_data]    |     /root/nltk_data...\n",
            "[nltk_data]    |   Package sentiwordnet is already up-to-date!\n",
            "[nltk_data]    | Downloading package shakespeare to /root/nltk_data...\n",
            "[nltk_data]    |   Package shakespeare is already up-to-date!\n",
            "[nltk_data]    | Downloading package sinica_treebank to\n",
            "[nltk_data]    |     /root/nltk_data...\n",
            "[nltk_data]    |   Package sinica_treebank is already up-to-date!\n",
            "[nltk_data]    | Downloading package smultron to /root/nltk_data...\n",
            "[nltk_data]    |   Package smultron is already up-to-date!\n",
            "[nltk_data]    | Downloading package snowball_data to\n",
            "[nltk_data]    |     /root/nltk_data...\n",
            "[nltk_data]    |   Package snowball_data is already up-to-date!\n",
            "[nltk_data]    | Downloading package spanish_grammars to\n",
            "[nltk_data]    |     /root/nltk_data...\n",
            "[nltk_data]    |   Package spanish_grammars is already up-to-date!\n",
            "[nltk_data]    | Downloading package state_union to /root/nltk_data...\n",
            "[nltk_data]    |   Package state_union is already up-to-date!\n",
            "[nltk_data]    | Downloading package stopwords to /root/nltk_data...\n",
            "[nltk_data]    |   Package stopwords is already up-to-date!\n",
            "[nltk_data]    | Downloading package subjectivity to\n",
            "[nltk_data]    |     /root/nltk_data...\n",
            "[nltk_data]    |   Package subjectivity is already up-to-date!\n",
            "[nltk_data]    | Downloading package swadesh to /root/nltk_data...\n",
            "[nltk_data]    |   Package swadesh is already up-to-date!\n",
            "[nltk_data]    | Downloading package switchboard to /root/nltk_data...\n",
            "[nltk_data]    |   Package switchboard is already up-to-date!\n",
            "[nltk_data]    | Downloading package tagsets to /root/nltk_data...\n",
            "[nltk_data]    |   Package tagsets is already up-to-date!\n",
            "[nltk_data]    | Downloading package timit to /root/nltk_data...\n",
            "[nltk_data]    |   Package timit is already up-to-date!\n",
            "[nltk_data]    | Downloading package toolbox to /root/nltk_data...\n",
            "[nltk_data]    |   Package toolbox is already up-to-date!\n",
            "[nltk_data]    | Downloading package treebank to /root/nltk_data...\n",
            "[nltk_data]    |   Package treebank is already up-to-date!\n",
            "[nltk_data]    | Downloading package twitter_samples to\n",
            "[nltk_data]    |     /root/nltk_data...\n",
            "[nltk_data]    |   Package twitter_samples is already up-to-date!\n",
            "[nltk_data]    | Downloading package udhr to /root/nltk_data...\n",
            "[nltk_data]    |   Package udhr is already up-to-date!\n",
            "[nltk_data]    | Downloading package udhr2 to /root/nltk_data...\n",
            "[nltk_data]    |   Package udhr2 is already up-to-date!\n",
            "[nltk_data]    | Downloading package unicode_samples to\n",
            "[nltk_data]    |     /root/nltk_data...\n",
            "[nltk_data]    |   Package unicode_samples is already up-to-date!\n",
            "[nltk_data]    | Downloading package universal_tagset to\n",
            "[nltk_data]    |     /root/nltk_data...\n",
            "[nltk_data]    |   Package universal_tagset is already up-to-date!\n",
            "[nltk_data]    | Downloading package universal_treebanks_v20 to\n",
            "[nltk_data]    |     /root/nltk_data...\n",
            "[nltk_data]    |   Package universal_treebanks_v20 is already up-to-\n",
            "[nltk_data]    |       date!\n",
            "[nltk_data]    | Downloading package vader_lexicon to\n",
            "[nltk_data]    |     /root/nltk_data...\n",
            "[nltk_data]    |   Package vader_lexicon is already up-to-date!\n",
            "[nltk_data]    | Downloading package verbnet to /root/nltk_data...\n",
            "[nltk_data]    |   Package verbnet is already up-to-date!\n",
            "[nltk_data]    | Downloading package verbnet3 to /root/nltk_data...\n",
            "[nltk_data]    |   Package verbnet3 is already up-to-date!\n",
            "[nltk_data]    | Downloading package webtext to /root/nltk_data...\n",
            "[nltk_data]    |   Package webtext is already up-to-date!\n",
            "[nltk_data]    | Downloading package wmt15_eval to /root/nltk_data...\n",
            "[nltk_data]    |   Package wmt15_eval is already up-to-date!\n",
            "[nltk_data]    | Downloading package word2vec_sample to\n",
            "[nltk_data]    |     /root/nltk_data...\n",
            "[nltk_data]    |   Package word2vec_sample is already up-to-date!\n",
            "[nltk_data]    | Downloading package wordnet to /root/nltk_data...\n",
            "[nltk_data]    |   Package wordnet is already up-to-date!\n",
            "[nltk_data]    | Downloading package wordnet2021 to /root/nltk_data...\n",
            "[nltk_data]    |   Package wordnet2021 is already up-to-date!\n",
            "[nltk_data]    | Downloading package wordnet31 to /root/nltk_data...\n",
            "[nltk_data]    |   Package wordnet31 is already up-to-date!\n",
            "[nltk_data]    | Downloading package wordnet_ic to /root/nltk_data...\n",
            "[nltk_data]    |   Package wordnet_ic is already up-to-date!\n",
            "[nltk_data]    | Downloading package words to /root/nltk_data...\n",
            "[nltk_data]    |   Package words is already up-to-date!\n",
            "[nltk_data]    | Downloading package ycoe to /root/nltk_data...\n",
            "[nltk_data]    |   Package ycoe is already up-to-date!\n",
            "[nltk_data]    | \n",
            "[nltk_data]  Done downloading collection all\n"
          ]
        },
        {
          "output_type": "stream",
          "name": "stdout",
          "text": [
            "(1306122, 3)\n",
            "(80810, 3)\n",
            "(80810, 3)\n"
          ]
        }
      ],
      "source": [
        "#Importación de las librerías NLTK y Gensim\n",
        "\n",
        "import nltk\n",
        "import gensim\n",
        "import pandas as pd\n",
        "import re\n",
        "nltk.download('all')\n",
        "\n",
        "#Cargo el dataset de ejemplo y veo su aspecto\n",
        "total_questionsdf = pd.read_csv('train.csv')\n",
        "print (total_questionsdf.shape)\n",
        "\n",
        "#Selecciono las preguntas insinceras\n",
        "insincere_questionsdf=total_questionsdf.loc[total_questionsdf['target'] == 1]\n",
        "print (insincere_questionsdf.shape)\n",
        "\n",
        "#Selecciono las sinceras\n",
        "sincere_questionsdf=total_questionsdf.loc[total_questionsdf['target'] == 0].sample(len(insincere_questionsdf))\n",
        "print (sincere_questionsdf.shape)"
      ]
    },
    {
      "cell_type": "markdown",
      "source": [
        "## Entrenamiento y validación con un conjunto aleatorio del dataset de entrada, que contiene muchas más opiniones sinceras que insinceras"
      ],
      "metadata": {
        "id": "YvyenB9omviA"
      }
    },
    {
      "cell_type": "code",
      "source": [
        "from sklearn.model_selection import train_test_split\n",
        "from sklearn import metrics\n",
        "\n",
        "import pandas as pd\n",
        "import numpy as np\n",
        "\n",
        "#Cojo un conjunto al azar del total, que está desequilibrado\n",
        "from sklearn.feature_extraction.text import TfidfVectorizer\n",
        "data = []\n",
        "data_labels = []\n",
        "\n",
        "\n",
        "questions = total_questionsdf['question_text'].sample(5000).tolist()\n",
        "tags = total_questionsdf['target'].tolist()\n",
        "\n",
        "for i in range(len(questions)): \n",
        "    data.append(questions[i]) \n",
        "    data_labels.append(tags[i])\n",
        "\n",
        "\n",
        "\n",
        "data_labels = ['SINCERE' if x==0 else 'INSINCERE' for x in data_labels]\n",
        "#Vectorización\n",
        "tfidfvectorizer = TfidfVectorizer(analyzer= 'word')\n",
        "\n",
        "X = tfidfvectorizer.fit_transform(data)\n",
        "M2 = X.toarray()\n",
        "\n",
        "#Preparación de los corpus de entrenamiento y test\n",
        "X_train, X_test, y_train, y_test  = train_test_split(\n",
        "        M2, \n",
        "        data_labels,\n",
        "        train_size=0.80, \n",
        "        random_state=1234)"
      ],
      "metadata": {
        "id": "i6yMHbcaCixE"
      },
      "execution_count": 3,
      "outputs": []
    },
    {
      "cell_type": "code",
      "source": [
        "from sklearn.linear_model import LogisticRegression\n",
        "\n",
        "classifier = LogisticRegression()\n",
        "##Entrenamiento\n",
        "log_model = classifier.fit(X=X_train, y=y_train)\n",
        "#Clasificación\n",
        "y_pred = log_model.predict(X_test)\n",
        "\n",
        "#Se calculan las métricas de evaluación\n",
        "lm = metrics.classification_report(y_test, y_pred, labels=list(set(data_labels)))\n",
        "\n",
        "print(lm)"
      ],
      "metadata": {
        "colab": {
          "base_uri": "https://localhost:8080/"
        },
        "id": "ODZ41G6TCpwC",
        "outputId": "49edb90f-8920-43c2-ddc4-5c2339787d75"
      },
      "execution_count": 4,
      "outputs": [
        {
          "output_type": "stream",
          "name": "stdout",
          "text": [
            "              precision    recall  f1-score   support\n",
            "\n",
            "     SINCERE       0.94      1.00      0.97       936\n",
            "   INSINCERE       0.00      0.00      0.00        64\n",
            "\n",
            "    accuracy                           0.94      1000\n",
            "   macro avg       0.47      0.50      0.48      1000\n",
            "weighted avg       0.88      0.94      0.91      1000\n",
            "\n"
          ]
        },
        {
          "output_type": "stream",
          "name": "stderr",
          "text": [
            "/usr/local/lib/python3.8/dist-packages/sklearn/metrics/_classification.py:1318: UndefinedMetricWarning: Precision and F-score are ill-defined and being set to 0.0 in labels with no predicted samples. Use `zero_division` parameter to control this behavior.\n",
            "  _warn_prf(average, modifier, msg_start, len(result))\n",
            "/usr/local/lib/python3.8/dist-packages/sklearn/metrics/_classification.py:1318: UndefinedMetricWarning: Precision and F-score are ill-defined and being set to 0.0 in labels with no predicted samples. Use `zero_division` parameter to control this behavior.\n",
            "  _warn_prf(average, modifier, msg_start, len(result))\n",
            "/usr/local/lib/python3.8/dist-packages/sklearn/metrics/_classification.py:1318: UndefinedMetricWarning: Precision and F-score are ill-defined and being set to 0.0 in labels with no predicted samples. Use `zero_division` parameter to control this behavior.\n",
            "  _warn_prf(average, modifier, msg_start, len(result))\n"
          ]
        }
      ]
    },
    {
      "cell_type": "markdown",
      "source": [
        "## Generamos un dataset más equilibrado, tomando el mismo número de sinceras que insinceras y aplicamos diferentes criterios de clasificación."
      ],
      "metadata": {
        "id": "p-1KQVHBnCHR"
      }
    },
    {
      "cell_type": "code",
      "source": [
        "#Vamos a separar los conjuntos de entrenamiento en conjuntos más proporcionados, donde tengamos la mitad de opiniones sinceras y la mitad de insinceras y veamos qué sucede\n",
        "from nltk import pos_tag, word_tokenize\n",
        "from sklearn.feature_extraction.text import TfidfVectorizer\n",
        "from sklearn.model_selection import train_test_split\n",
        "muestraInsinceras=insincere_questionsdf.sample(25000)\n",
        "muestraSinceras=sincere_questionsdf.sample(25000)\n",
        "\n",
        "questions=muestraInsinceras['question_text'].append(muestraSinceras['question_text']).tolist()\n",
        "tags = muestraInsinceras['target'].append(muestraSinceras['target']).tolist()\n",
        "\n",
        "data = []\n",
        "data_labels = []\n",
        "\n",
        "for i in range(len(questions)): \n",
        "    questions[i]=questions[i].lower()\n",
        "    questions[i]=re.sub('[^a-zA-Z\\']', ' ', questions[i])\n",
        "    data.append(questions[i]) \n",
        "    data_labels.append(tags[i])\n",
        "    \n",
        "\n",
        "data_labels = ['SINCERE' if x==0 else 'INSINCERE' for x in data_labels]\n",
        "#Vectorización. Ojo con la variable \"stop_words, porque no mejoramos la precisión.\n",
        "#Dejamos la versión con stopwords comentada por si se desea hacer pruebas.\n",
        "\n",
        "#tfidfvectorizer = TfidfVectorizer(analyzer= 'word', stop_words='english')\n",
        "tfidfvectorizer = TfidfVectorizer(analyzer= 'word')\n",
        "X = tfidfvectorizer.fit_transform(data)\n",
        "M2 = X.toarray()\n",
        "\n",
        "#Preparación de los corpus de entrenamiento y test\n",
        "X_train, X_test, y_train, y_test  = train_test_split(\n",
        "        M2, \n",
        "        data_labels,\n",
        "        train_size=0.80, \n",
        "        random_state=1234)"
      ],
      "metadata": {
        "id": "DY0EKL2dCtfi"
      },
      "execution_count": 5,
      "outputs": []
    },
    {
      "cell_type": "markdown",
      "source": [
        "### Regresión logística"
      ],
      "metadata": {
        "id": "zZbBScS4nUAx"
      }
    },
    {
      "cell_type": "code",
      "source": [
        "#Clasificador con regresión logística\n",
        "from sklearn.linear_model import LogisticRegression\n",
        "\n",
        "classifier = LogisticRegression()\n",
        "##Entrenamiento\n",
        "log_model = classifier.fit(X=X_train, y=y_train)\n",
        "#Clasificación\n",
        "y_pred = log_model.predict(X_test)\n",
        "\n",
        "#Se calculan las métricas de evaluación\n",
        "lm = metrics.classification_report(y_test, y_pred, labels=list(set(data_labels)))\n",
        "\n",
        "print(lm)"
      ],
      "metadata": {
        "colab": {
          "base_uri": "https://localhost:8080/"
        },
        "id": "3t4zV34qC_LR",
        "outputId": "2a421731-a87d-4072-e314-2facfd406bf2"
      },
      "execution_count": 6,
      "outputs": [
        {
          "output_type": "stream",
          "name": "stdout",
          "text": [
            "              precision    recall  f1-score   support\n",
            "\n",
            "     SINCERE       0.87      0.88      0.87      5034\n",
            "   INSINCERE       0.87      0.86      0.87      4966\n",
            "\n",
            "    accuracy                           0.87     10000\n",
            "   macro avg       0.87      0.87      0.87     10000\n",
            "weighted avg       0.87      0.87      0.87     10000\n",
            "\n"
          ]
        }
      ]
    },
    {
      "cell_type": "markdown",
      "source": [
        "### Clasificador bayesiano"
      ],
      "metadata": {
        "id": "xsid6KZNngPy"
      }
    },
    {
      "cell_type": "code",
      "source": [
        "#Clasificador bayesiano\n",
        "from sklearn.naive_bayes import MultinomialNB\n",
        "\n",
        "classifier = MultinomialNB()\n",
        "#Entrenamiento\n",
        "bayes_model = classifier.fit(X=X_train, y=y_train)\n",
        "#Clasificación\n",
        "y_pred = bayes_model.predict(X_test)\n",
        "\n",
        "#Se calculan las métricas de evaluación\n",
        "bm = metrics.classification_report(y_test, y_pred, labels=list(set(data_labels)))\n",
        "\n",
        "print(bm)"
      ],
      "metadata": {
        "colab": {
          "base_uri": "https://localhost:8080/"
        },
        "id": "kyYJYiNTDDVL",
        "outputId": "f069eda4-171b-42fc-f8f1-2aeb3c813c1a"
      },
      "execution_count": 7,
      "outputs": [
        {
          "output_type": "stream",
          "name": "stdout",
          "text": [
            "              precision    recall  f1-score   support\n",
            "\n",
            "     SINCERE       0.92      0.79      0.85      5034\n",
            "   INSINCERE       0.81      0.93      0.87      4966\n",
            "\n",
            "    accuracy                           0.86     10000\n",
            "   macro avg       0.87      0.86      0.86     10000\n",
            "weighted avg       0.87      0.86      0.86     10000\n",
            "\n"
          ]
        }
      ]
    },
    {
      "cell_type": "markdown",
      "source": [
        "### Clasificador SVM"
      ],
      "metadata": {
        "id": "LqRD6Virnk5i"
      }
    },
    {
      "cell_type": "code",
      "source": [
        "#Clasificador SVC\n",
        "import sklearn.svm\n",
        "\n",
        "classifier = sklearn.svm.LinearSVC()\n",
        "#Entrenamiento\n",
        "svm_model = classifier.fit(X=X_train, y=y_train)\n",
        "#Clasificación\n",
        "y_pred = svm_model.predict(X_test)\n",
        "\n",
        "svm = metrics.classification_report(y_test, y_pred, labels=list(set(data_labels)))\n",
        "\n",
        "print(svm)"
      ],
      "metadata": {
        "colab": {
          "base_uri": "https://localhost:8080/"
        },
        "id": "HjDCc4KeDEy7",
        "outputId": "dcf4f1a8-6688-407e-a4fd-5362505a0fbe"
      },
      "execution_count": 8,
      "outputs": [
        {
          "output_type": "stream",
          "name": "stdout",
          "text": [
            "              precision    recall  f1-score   support\n",
            "\n",
            "     SINCERE       0.87      0.88      0.87      5034\n",
            "   INSINCERE       0.87      0.87      0.87      4966\n",
            "\n",
            "    accuracy                           0.87     10000\n",
            "   macro avg       0.87      0.87      0.87     10000\n",
            "weighted avg       0.87      0.87      0.87     10000\n",
            "\n"
          ]
        }
      ]
    },
    {
      "cell_type": "markdown",
      "source": [
        "### Clasificador Random Forest"
      ],
      "metadata": {
        "id": "sCuSA7RCnuTS"
      }
    },
    {
      "cell_type": "code",
      "source": [
        "#Clasificador Random forest\n",
        "from sklearn.ensemble import RandomForestClassifier\n",
        "\n",
        "classifier = RandomForestClassifier(n_estimators=10)\n",
        "#Entrenamiento\n",
        "rf_model = classifier.fit(X=X_train, y=y_train)\n",
        "#Clasificación\n",
        "y_pred = rf_model.predict(X_test)\n",
        "\n",
        "#Se calculan las métricas de evaluación\n",
        "rm = metrics.classification_report(y_test, y_pred, labels=list(set(data_labels)))\n",
        "\n",
        "print(rm)"
      ],
      "metadata": {
        "id": "SrgL_n95DJS6",
        "colab": {
          "base_uri": "https://localhost:8080/"
        },
        "outputId": "4734453c-3b50-488f-d5bc-a688e7da9888"
      },
      "execution_count": 9,
      "outputs": [
        {
          "output_type": "stream",
          "name": "stdout",
          "text": [
            "              precision    recall  f1-score   support\n",
            "\n",
            "     SINCERE       0.85      0.78      0.81      5034\n",
            "   INSINCERE       0.79      0.86      0.83      4966\n",
            "\n",
            "    accuracy                           0.82     10000\n",
            "   macro avg       0.82      0.82      0.82     10000\n",
            "weighted avg       0.82      0.82      0.82     10000\n",
            "\n"
          ]
        }
      ]
    },
    {
      "cell_type": "markdown",
      "source": [],
      "metadata": {
        "id": "KVasNG2WrAZC"
      }
    },
    {
      "cell_type": "markdown",
      "source": [
        "## Vamos a Tratar de analizar el impacto de \"Trump\""
      ],
      "metadata": {
        "id": "z566mpkYnqki"
      }
    },
    {
      "cell_type": "markdown",
      "source": [
        "### Generamos un dataset donde reemplazamos \"Trump\" por \"Biden\" en el conjunto de validación"
      ],
      "metadata": {
        "id": "8YvEg-lpo9kw"
      }
    },
    {
      "cell_type": "code",
      "source": [
        "#Vamos a generar nuevos datasets para ver qué pasa si cambio Trump por Biden\n",
        "from sklearn.feature_extraction.text import TfidfVectorizer\n",
        "muestraInsinceras=insincere_questionsdf.sample(25000)\n",
        "muestraSinceras=sincere_questionsdf.sample(25000)\n",
        "#Mezclo sinceras e insinceras\n",
        "datasetMezclado=muestraInsinceras.append(muestraSinceras).sample(50000)\n",
        "\n",
        "questions = datasetMezclado['question_text'].tolist()\n",
        "tags = datasetMezclado['target'].tolist()\n",
        "\n",
        "\n",
        "data = []\n",
        "data_labels = []\n",
        "\n",
        "for i in range(len(questions)): \n",
        "    questions[i]=questions[i].lower()\n",
        "    questions[i]=re.sub('[^a-zA-Z\\']', ' ', questions[i])\n",
        "    data.append(questions[i]) \n",
        "    data_labels.append(tags[i])\n",
        "    \n",
        "\n",
        "data_labels = ['SINCERE' if x==0 else 'INSINCERE' for x in data_labels]\n",
        "\n",
        "\n",
        "for i in range(40000, 50000):\n",
        "  data[i]=data[i].replace(\"Trump\", \"Biden\")\n",
        "  data[i]=data[i].replace(\"trump\", \"Biden\")\n",
        "\n",
        "\n",
        "#tfidfvectorizer = TfidfVectorizer(analyzer= 'word', stop_words='english')\n",
        "tfidfvectorizer = TfidfVectorizer(analyzer= 'word')\n",
        "X = tfidfvectorizer.fit_transform(data)\n",
        "X = X.toarray()\n",
        "X_train=X[0:40000]\n",
        "X_test=X[40001:50000]\n",
        "y_train=data_labels[0:40000]\n",
        "y_test=data_labels[40001:50000]\n"
      ],
      "metadata": {
        "id": "FcXHbahwT1_K"
      },
      "execution_count": 4,
      "outputs": []
    },
    {
      "cell_type": "code",
      "source": [
        "#Clasificador con regresión logística\n",
        "from sklearn.linear_model import LogisticRegression\n",
        "from sklearn import metrics\n",
        "classifier = LogisticRegression()\n",
        "##Entrenamiento\n",
        "log_model = classifier.fit(X=X_train, y=y_train)\n",
        "#Clasificación\n",
        "y_pred = log_model.predict(X_test)\n",
        "\n",
        "#Se calculan las métricas de evaluación\n",
        "lm = metrics.classification_report(y_test, y_pred, labels=list(set(data_labels)))\n",
        "\n",
        "print(lm)"
      ],
      "metadata": {
        "colab": {
          "base_uri": "https://localhost:8080/"
        },
        "id": "UxJiO-cjbOTz",
        "outputId": "e5cb710c-581e-46fe-ee89-3ef95a918327"
      },
      "execution_count": 6,
      "outputs": [
        {
          "output_type": "stream",
          "name": "stdout",
          "text": [
            "              precision    recall  f1-score   support\n",
            "\n",
            "     SINCERE       0.86      0.88      0.87      4978\n",
            "   INSINCERE       0.87      0.85      0.86      5021\n",
            "\n",
            "    accuracy                           0.86      9999\n",
            "   macro avg       0.87      0.87      0.86      9999\n",
            "weighted avg       0.87      0.86      0.86      9999\n",
            "\n"
          ]
        }
      ]
    },
    {
      "cell_type": "markdown",
      "source": [
        "### Vamos a tomar un dataset que en todas las frase contenga \"Trump\". "
      ],
      "metadata": {
        "id": "6gmq7p2PpQJX"
      }
    },
    {
      "cell_type": "markdown",
      "source": [
        "De esta manera pretendemos analizar el impacto que tiene Trump en las preguntas en las que aparece el término \"Trump\". No en todo el dataset. ¿Cómo de preciso es nuestro clasificador cuando aparece \"Trump\"?"
      ],
      "metadata": {
        "id": "RRhYTqjNpmoG"
      }
    },
    {
      "cell_type": "code",
      "source": [
        "#Ahora vamos a coger solo las preguntas que contienen \"Trump\", entrenamos y a ver qué pasa.\n",
        "from sklearn.model_selection import train_test_split\n",
        "preguntasTrump = total_questionsdf[total_questionsdf['question_text'].str.contains('Trump')]\n",
        "\n",
        "questions = preguntasTrump['question_text'].tolist()\n",
        "tags = preguntasTrump['target'].tolist()\n",
        "\n",
        "data = []\n",
        "data_labels = []\n",
        "\n",
        "for i in range(len(questions)): \n",
        "    questions[i]=questions[i].lower()\n",
        "    questions[i]=re.sub('[^a-zA-Z\\']', ' ', questions[i])\n",
        "    data.append(questions[i]) \n",
        "    data_labels.append(tags[i])\n",
        "    \n",
        "\n",
        "data_labels = ['SINCERE' if x==0 else 'INSINCERE' for x in data_labels]\n",
        "\n",
        "tfidfvectorizer = TfidfVectorizer(analyzer= 'word')\n",
        "X = tfidfvectorizer.fit_transform(data)\n",
        "M2 = X.toarray()\n",
        "\n",
        "#Preparación de los corpus de entrenamiento y test\n",
        "X_train, X_test, y_train, y_test  = train_test_split(\n",
        "        M2, \n",
        "        data_labels,\n",
        "        train_size=0.80, \n",
        "        random_state=1234)"
      ],
      "metadata": {
        "id": "8TmXhjuffhSD"
      },
      "execution_count": 8,
      "outputs": []
    },
    {
      "cell_type": "markdown",
      "source": [
        "Aplicamos Regresión logística"
      ],
      "metadata": {
        "id": "xYSv320hpkkf"
      }
    },
    {
      "cell_type": "code",
      "source": [
        "#Clasificador con regresión logística para ver la bondad del predictor utilizando \"Trump\"\n",
        "from sklearn.linear_model import LogisticRegression\n",
        "\n",
        "classifier = LogisticRegression()\n",
        "##Entrenamiento\n",
        "log_model = classifier.fit(X=X_train, y=y_train)\n",
        "#Clasificación\n",
        "y_pred = log_model.predict(X_test)\n",
        "\n",
        "#Se calculan las métricas de evaluación\n",
        "lm = metrics.classification_report(y_test, y_pred, labels=list(set(data_labels)))\n",
        "\n",
        "print(lm)"
      ],
      "metadata": {
        "colab": {
          "base_uri": "https://localhost:8080/"
        },
        "id": "jiCTfMRQiy_i",
        "outputId": "b7d03835-6202-459f-af25-a9f470eec9e0"
      },
      "execution_count": 9,
      "outputs": [
        {
          "output_type": "stream",
          "name": "stdout",
          "text": [
            "              precision    recall  f1-score   support\n",
            "\n",
            "     SINCERE       0.72      0.79      0.75      1538\n",
            "   INSINCERE       0.68      0.59      0.64      1174\n",
            "\n",
            "    accuracy                           0.70      2712\n",
            "   macro avg       0.70      0.69      0.69      2712\n",
            "weighted avg       0.70      0.70      0.70      2712\n",
            "\n"
          ]
        }
      ]
    },
    {
      "cell_type": "markdown",
      "source": [
        "#### Por último vamos a ver cómo impacta que cambiemos \"Biden\" por \"Trump\" en el conjunto de validación habiendo hecho un entrenamiento solo de las preguntas que contenían \"Trump\""
      ],
      "metadata": {
        "id": "FQf-cb65qC82"
      }
    },
    {
      "cell_type": "code",
      "source": [
        "#Vamos a coger 10.000 preguntas para entrenar y el resto del dataset para validar sustituyendo \"Trump\" por \"Biden\"\n",
        "questions = preguntasTrump['question_text'].tolist()\n",
        "tags = preguntasTrump['target'].tolist()\n",
        "\n",
        "\n",
        "data = []\n",
        "data_labels = []\n",
        "\n",
        "for i in range(len(questions)): \n",
        "    questions[i]=questions[i].lower()\n",
        "    questions[i]=re.sub('[^a-zA-Z\\']', ' ', questions[i])\n",
        "    data.append(questions[i]) \n",
        "    data_labels.append(tags[i])\n",
        "    \n",
        "\n",
        "data_labels = ['SINCERE' if x==0 else 'INSINCERE' for x in data_labels]\n",
        "\n",
        "#\n",
        "for i in range(10000, len(preguntasTrump)):\n",
        "  data[i]=data[i].replace(\"Trump\", \"Biden\")\n",
        "  data[i]=data[i].replace(\"trump\", \"Biden\")\n",
        "\n",
        "\n",
        "#tfidfvectorizer = TfidfVectorizer(analyzer= 'word', stop_words='english')\n",
        "tfidfvectorizer = TfidfVectorizer(analyzer= 'word')\n",
        "X = tfidfvectorizer.fit_transform(data)\n",
        "X = X.toarray()\n",
        "X_train=X[0:10000]\n",
        "X_test=X[10001:len(preguntasTrump)]\n",
        "y_train=data_labels[0:10000]\n",
        "y_test=data_labels[10001:len(preguntasTrump)]"
      ],
      "metadata": {
        "id": "LRhsRwVTnBW8"
      },
      "execution_count": 11,
      "outputs": []
    },
    {
      "cell_type": "markdown",
      "source": [
        "Se aplica regresión logística"
      ],
      "metadata": {
        "id": "MfwAMlfCsgnw"
      }
    },
    {
      "cell_type": "code",
      "source": [
        "#Clasificador con regresión logística para ver la bondad del predictor utilizando \"Trump\"\n",
        "from sklearn.linear_model import LogisticRegression\n",
        "\n",
        "classifier = LogisticRegression()\n",
        "##Entrenamiento\n",
        "log_model = classifier.fit(X=X_train, y=y_train)\n",
        "#Clasificación\n",
        "y_pred = log_model.predict(X_test)\n",
        "\n",
        "#Se calculan las métricas de evaluación\n",
        "lm = metrics.classification_report(y_test, y_pred, labels=list(set(data_labels)))\n",
        "\n",
        "print(lm)"
      ],
      "metadata": {
        "colab": {
          "base_uri": "https://localhost:8080/"
        },
        "id": "HyrrKcNZnoSc",
        "outputId": "e6a6b767-0bd8-448f-c69a-72934c23c47c"
      },
      "execution_count": 12,
      "outputs": [
        {
          "output_type": "stream",
          "name": "stdout",
          "text": [
            "              precision    recall  f1-score   support\n",
            "\n",
            "     SINCERE       0.76      0.66      0.71      2039\n",
            "   INSINCERE       0.62      0.72      0.66      1518\n",
            "\n",
            "    accuracy                           0.69      3557\n",
            "   macro avg       0.69      0.69      0.69      3557\n",
            "weighted avg       0.70      0.69      0.69      3557\n",
            "\n"
          ]
        }
      ]
    },
    {
      "cell_type": "code",
      "source": [
        "%%shell\n",
        "jupyter nbconvert --to html /content/TFM1_AnalisisLinguistico.ipynb"
      ],
      "metadata": {
        "id": "lZJFTgL26Bsj"
      },
      "execution_count": null,
      "outputs": []
    }
  ]
}